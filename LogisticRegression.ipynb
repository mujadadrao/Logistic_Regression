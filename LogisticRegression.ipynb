{
 "cells": [
  {
   "cell_type": "code",
   "execution_count": 1,
   "metadata": {},
   "outputs": [
    {
     "name": "stderr",
     "output_type": "stream",
     "text": [
      "/usr/lib/python3.5/importlib/_bootstrap.py:222: RuntimeWarning: numpy.dtype size changed, may indicate binary incompatibility. Expected 96, got 88\n",
      "  return f(*args, **kwds)\n",
      "/usr/lib/python3.5/importlib/_bootstrap.py:222: RuntimeWarning: numpy.dtype size changed, may indicate binary incompatibility. Expected 96, got 88\n",
      "  return f(*args, **kwds)\n"
     ]
    }
   ],
   "source": [
    "import numpy as np\n",
    "import pandas as pd\n",
    "import time\n",
    "import matplotlib.pyplot as plt\n",
    "import json\n",
    "import string\n",
    "from math import sqrt\n",
    "%matplotlib inline\n",
    "#import warnings\n",
    "#warnings.simplefilter('error', RuntimeWarning)"
   ]
  },
  {
   "cell_type": "code",
   "execution_count": 2,
   "metadata": {},
   "outputs": [],
   "source": [
    "def plot(x, y, x_label=\"\", y_label=\"\", plot_type=\"scatter\", color='blue'):\n",
    "    \n",
    "    if plot_type == \"scatter\":\n",
    "        plt.scatter(x, y, color=color)\n",
    "    \n",
    "    elif plot_type == \"plot\":\n",
    "        plt.plot(x, y, color=color)\n",
    "    \n",
    "    plt.xlabel(x_label)\n",
    "    plt.ylabel(y_label)\n",
    "    "
   ]
  },
  {
   "cell_type": "code",
   "execution_count": 3,
   "metadata": {},
   "outputs": [],
   "source": [
    "def read_data(filename):\n",
    "    df = pd.read_csv(filename)\n",
    "    return df"
   ]
  },
  {
   "cell_type": "code",
   "execution_count": 4,
   "metadata": {},
   "outputs": [],
   "source": [
    "def remove_punctuation(text):\n",
    "    table = str.maketrans(dict.fromkeys(string.punctuation))\n",
    "    stripped_text = text.translate(table)\n",
    "    return stripped_text"
   ]
  },
  {
   "cell_type": "code",
   "execution_count": 5,
   "metadata": {},
   "outputs": [],
   "source": [
    "def convert_to_numpy(dataframe, features, label):\n",
    "    feature_matrix = dataframe[features].values\n",
    "    feature_matrix = np.hstack((np.ones((feature_matrix.shape[0], 1)), feature_matrix))\n",
    "    target_array = dataframe[label].values.reshape(-1, 1)\n",
    "    return feature_matrix, target_array"
   ]
  },
  {
   "cell_type": "code",
   "execution_count": 6,
   "metadata": {},
   "outputs": [],
   "source": [
    "def get_weighted_sums(x, params):\n",
    "    w_sums = np.dot(x, params)\n",
    "    return w_sums"
   ]
  },
  {
   "cell_type": "code",
   "execution_count": 7,
   "metadata": {},
   "outputs": [],
   "source": [
    "def sigmoid(z):\n",
    "    return np.divide(1, np.add(1, np.exp(np.multiply(-1, z))))"
   ]
  },
  {
   "cell_type": "code",
   "execution_count": 8,
   "metadata": {},
   "outputs": [],
   "source": [
    "def calculate_hypothesis(x, params):\n",
    "    predictions = sigmoid(get_weighted_sums(x, params))\n",
    "    return predictions"
   ]
  },
  {
   "cell_type": "code",
   "execution_count": 9,
   "metadata": {},
   "outputs": [],
   "source": [
    "def log_loss(x, y, params):\n",
    "    epsilon = 1e-10    \n",
    "    m = y.shape[0]\n",
    "    hyp = calculate_hypothesis(x, params)\n",
    "        \n",
    "    eq_1 = np.multiply(y, np.log(hyp+epsilon))\n",
    "    eq_2 = np.multiply(np.subtract(1, y), np.log(np.subtract(1, hyp)+epsilon))\n",
    "    \n",
    "    sum_of_eqs = np.sum(np.add(eq_1, eq_2))\n",
    "    cost = (-1/m)*sum_of_eqs \n",
    "    \n",
    "    return cost\n"
   ]
  },
  {
   "cell_type": "code",
   "execution_count": 10,
   "metadata": {},
   "outputs": [],
   "source": [
    "def log_likelihood(feature_matrix, sentiment, coefficients):\n",
    "    indicator = (sentiment==+1)\n",
    "    scores = np.dot(feature_matrix, coefficients)\n",
    "    logexp = np.log(1. + np.exp(-scores))\n",
    "    \n",
    "    # Simple check to prevent overflow\n",
    "    mask = np.isinf(logexp)\n",
    "    logexp[mask] = -scores[mask]\n",
    "    \n",
    "    lp = np.sum((indicator-1)*scores - logexp)\n",
    "    return lp"
   ]
  },
  {
   "cell_type": "code",
   "execution_count": 11,
   "metadata": {},
   "outputs": [],
   "source": [
    "def calculate_gradients_log_loss(x, y, params):\n",
    "    hyp = calculate_hypothesis(x, params)\n",
    "        \n",
    "    #Calculating gradients\n",
    "    diff = np.subtract(hyp, y)\n",
    "    gradients = np.dot(x.transpose(), diff)\n",
    "\n",
    "    return gradients"
   ]
  },
  {
   "cell_type": "code",
   "execution_count": 12,
   "metadata": {},
   "outputs": [],
   "source": [
    "def calculate_gradients_log_likelihood(x, y, params):\n",
    "    hyp = calculate_hypothesis(x, params)\n",
    "        \n",
    "    #Calculating gradients\n",
    "    diff = np.subtract(y, hyp)\n",
    "    gradients = np.dot(x.transpose(), diff)\n",
    "\n",
    "    return gradients"
   ]
  },
  {
   "cell_type": "code",
   "execution_count": 13,
   "metadata": {},
   "outputs": [],
   "source": [
    "def gradient_descent(x, y, params, alpha=0.001, precision=0.000000001, tolerance=0.0001, iterations = 0):\n",
    "    \n",
    "    #Total count of training exmaples and features\n",
    "    m = y.shape[0]\n",
    "    n = params.shape[0]\n",
    "    \n",
    "    #Creating a list for storing our cost function history\n",
    "    cost_history = list()\n",
    "    \n",
    "    first_iteration = True\n",
    "    its = 0\n",
    "    iterate = False\n",
    "    \n",
    "    if iterations > 0:\n",
    "        iterate = True\n",
    "        \n",
    "    print(\"-- Gradient Descent Started --\\n\")\n",
    "    #print(\"Initial Parameters: \\n\", params)\n",
    "    \n",
    "    \n",
    "    while True:\n",
    "#       print(\"Iteration: \", its)\n",
    "        gradients = calculate_gradients_log_loss(x, y, params)\n",
    "        res = np.multiply(gradients, alpha)\n",
    "        params = np.subtract(params, res)\n",
    "        \n",
    "        magnitude = np.sqrt(np.sum(np.square(gradients)))\n",
    "\n",
    "        #Keeping track of the history of cost\n",
    "        current_cost = log_loss(x, y, params)\n",
    "        \n",
    "        if its%1000==0:\n",
    "             print(current_cost)\n",
    "        \n",
    "        if magnitude <= tolerance:\n",
    "            print(\"\\nMagnitude condition satisfied - ending Gradient Descent\")\n",
    "            break\n",
    "        \n",
    "#         if not(first_iteration) and ((cost_history[-1] - current_cost) <= precision):\n",
    "#             print(\"\\nPrecision condition satisfied - ending Gradient Descent\")\n",
    "#             break\n",
    "        \n",
    "                \n",
    "        if first_iteration:\n",
    "            first_iteration = False\n",
    "        \n",
    "        cost_history.append(current_cost)\n",
    "        \n",
    "        its +=1\n",
    "        \n",
    "        if iterate and (its == iterations):\n",
    "            print(\"\\nIterations completed - ending Gradient Descent\")\n",
    "            break\n",
    "            \n",
    "    print(\"\\n-- Gradient Descent Completed --\\n\")\n",
    "    \n",
    "    return params, cost_history, its\n",
    "    "
   ]
  },
  {
   "cell_type": "markdown",
   "metadata": {},
   "source": [
    "## Loading the data"
   ]
  },
  {
   "cell_type": "code",
   "execution_count": 14,
   "metadata": {
    "scrolled": false
   },
   "outputs": [
    {
     "data": {
      "text/html": [
       "<div>\n",
       "<style scoped>\n",
       "    .dataframe tbody tr th:only-of-type {\n",
       "        vertical-align: middle;\n",
       "    }\n",
       "\n",
       "    .dataframe tbody tr th {\n",
       "        vertical-align: top;\n",
       "    }\n",
       "\n",
       "    .dataframe thead th {\n",
       "        text-align: right;\n",
       "    }\n",
       "</style>\n",
       "<table border=\"1\" class=\"dataframe\">\n",
       "  <thead>\n",
       "    <tr style=\"text-align: right;\">\n",
       "      <th></th>\n",
       "      <th>name</th>\n",
       "      <th>review</th>\n",
       "      <th>rating</th>\n",
       "      <th>sentiment</th>\n",
       "    </tr>\n",
       "  </thead>\n",
       "  <tbody>\n",
       "    <tr>\n",
       "      <th>0</th>\n",
       "      <td>Stop Pacifier Sucking without tears with Thumb...</td>\n",
       "      <td>All of my kids have cried non-stop when I trie...</td>\n",
       "      <td>5</td>\n",
       "      <td>1</td>\n",
       "    </tr>\n",
       "    <tr>\n",
       "      <th>1</th>\n",
       "      <td>Nature's Lullabies Second Year Sticker Calendar</td>\n",
       "      <td>We wanted to get something to keep track of ou...</td>\n",
       "      <td>5</td>\n",
       "      <td>1</td>\n",
       "    </tr>\n",
       "    <tr>\n",
       "      <th>2</th>\n",
       "      <td>Nature's Lullabies Second Year Sticker Calendar</td>\n",
       "      <td>My daughter had her 1st baby over a year ago. ...</td>\n",
       "      <td>5</td>\n",
       "      <td>1</td>\n",
       "    </tr>\n",
       "    <tr>\n",
       "      <th>3</th>\n",
       "      <td>Lamaze Peekaboo, I Love You</td>\n",
       "      <td>One of baby's first and favorite books, and it...</td>\n",
       "      <td>4</td>\n",
       "      <td>1</td>\n",
       "    </tr>\n",
       "    <tr>\n",
       "      <th>4</th>\n",
       "      <td>SoftPlay Peek-A-Boo Where's Elmo A Children's ...</td>\n",
       "      <td>Very cute interactive book! My son loves this ...</td>\n",
       "      <td>5</td>\n",
       "      <td>1</td>\n",
       "    </tr>\n",
       "  </tbody>\n",
       "</table>\n",
       "</div>"
      ],
      "text/plain": [
       "                                                name  \\\n",
       "0  Stop Pacifier Sucking without tears with Thumb...   \n",
       "1    Nature's Lullabies Second Year Sticker Calendar   \n",
       "2    Nature's Lullabies Second Year Sticker Calendar   \n",
       "3                        Lamaze Peekaboo, I Love You   \n",
       "4  SoftPlay Peek-A-Boo Where's Elmo A Children's ...   \n",
       "\n",
       "                                              review  rating  sentiment  \n",
       "0  All of my kids have cried non-stop when I trie...       5          1  \n",
       "1  We wanted to get something to keep track of ou...       5          1  \n",
       "2  My daughter had her 1st baby over a year ago. ...       5          1  \n",
       "3  One of baby's first and favorite books, and it...       4          1  \n",
       "4  Very cute interactive book! My son loves this ...       5          1  "
      ]
     },
     "execution_count": 14,
     "metadata": {},
     "output_type": "execute_result"
    }
   ],
   "source": [
    "products = read_data('amazon_baby_subset.csv')\n",
    "products.head()"
   ]
  },
  {
   "cell_type": "markdown",
   "metadata": {},
   "source": [
    "Peeking into the dataset:\n",
    "- The 'name' column indicates the name of the product.\n",
    "- The 'review' column has the review of the product.\n",
    "- The 'rating' column has rating of the product out of 5.\n",
    "- The 'sentiment' column indicates whether it is a positive (+1) or a negative (-1) review."
   ]
  },
  {
   "cell_type": "markdown",
   "metadata": {},
   "source": [
    "## Cleaning the data"
   ]
  },
  {
   "cell_type": "markdown",
   "metadata": {},
   "source": [
    "Instead of using all words in building bag-of-words features, but here we limit ourselves to 193 words (for simplicity). A compiled list of 193 most frequent words is in a JSON file (important_words.json)."
   ]
  },
  {
   "cell_type": "code",
   "execution_count": 15,
   "metadata": {},
   "outputs": [],
   "source": [
    "with open('important_words.json', 'r') as file:\n",
    "    important_words = json.load(file)\n",
    "important_words = [str(word) for word in important_words]"
   ]
  },
  {
   "cell_type": "markdown",
   "metadata": {},
   "source": [
    "Now, we have to do the following transformations on data:\n",
    "- Remove the punctuations from the reviews.\n",
    "- Add new features (bag-of-words)."
   ]
  },
  {
   "cell_type": "code",
   "execution_count": 16,
   "metadata": {},
   "outputs": [],
   "source": [
    "products['review_cleaned'] = products['review'].astype(str).apply(remove_punctuation)"
   ]
  },
  {
   "cell_type": "markdown",
   "metadata": {},
   "source": [
    "Adding bag of words features to our dataset (just most imporant words - not all!)"
   ]
  },
  {
   "cell_type": "code",
   "execution_count": 17,
   "metadata": {},
   "outputs": [],
   "source": [
    "for word in important_words:\n",
    "    products[word] = products['review_cleaned'].apply(lambda s : s.split().count(word))\n"
   ]
  },
  {
   "cell_type": "code",
   "execution_count": 18,
   "metadata": {},
   "outputs": [],
   "source": [
    "products['sentiment'] = products['sentiment'].apply(lambda x : 0 if x == -1 else x)\n"
   ]
  },
  {
   "cell_type": "code",
   "execution_count": 19,
   "metadata": {},
   "outputs": [],
   "source": [
    "# products.to_csv(\"products_final.csv\", index=False)"
   ]
  },
  {
   "cell_type": "markdown",
   "metadata": {},
   "source": [
    "Converting the dataframe into numpy arrays!"
   ]
  },
  {
   "cell_type": "code",
   "execution_count": 20,
   "metadata": {},
   "outputs": [],
   "source": [
    "feature_matrix, sentiment = convert_to_numpy(products, important_words, 'sentiment')\n",
    "params = np.zeros((feature_matrix.shape[1])).reshape(-1,1)"
   ]
  },
  {
   "cell_type": "code",
   "execution_count": 21,
   "metadata": {
    "scrolled": true
   },
   "outputs": [
    {
     "name": "stdout",
     "output_type": "stream",
     "text": [
      "-- Gradient Descent Started --\n",
      "\n",
      "0.6108947197689977\n",
      "0.5119468903534495\n",
      "0.5119275125010818\n",
      "0.511923942454649\n",
      "0.5119209850612042\n",
      "\n",
      "Iterations completed - ending Gradient Descent\n",
      "\n",
      "-- Gradient Descent Completed --\n",
      "\n",
      "\n",
      "Cost on the newly obtained parameters:  0.5107611150880256\n",
      "\n",
      "Total iterations taken:  5000\n"
     ]
    }
   ],
   "source": [
    "new_params, cost_hist, its = gradient_descent(feature_matrix, sentiment, params.copy(), alpha=1e-4, precision= 0.00001, tolerance=0.0001, iterations=5000)\n",
    "\n",
    "#print(\"Obtained Parameters: \\n\", new_params)\n",
    "print(\"\\nCost on the newly obtained parameters: \", cost_hist[-1])\n",
    "print(\"\\nTotal iterations taken: \", its)"
   ]
  },
  {
   "cell_type": "code",
   "execution_count": 22,
   "metadata": {
    "scrolled": false
   },
   "outputs": [
    {
     "data": {
      "image/png": "[encoded data removed]",
      "text/plain": [
       "<Figure size 432x288 with 1 Axes>"
      ]
     },
     "metadata": {},
     "output_type": "display_data"
    }
   ],
   "source": [
    "cost_hist = np.array(cost_hist)\n",
    "iterations = np.arange(1, its+1)\n",
    "plot(iterations, cost_hist, x_label=\"No. of iterations\", y_label=\"Cost\", plot_type=\"plot\")"
   ]
  },
  {
   "cell_type": "code",
   "execution_count": 23,
   "metadata": {},
   "outputs": [],
   "source": [
    "scores = np.dot(feature_matrix, new_params)\n",
    "scores_pred = []\n",
    "for score in scores:\n",
    "    if score <= 0:\n",
    "        scores_pred.append(-1)\n",
    "    else:\n",
    "        scores_pred.append(+1)"
   ]
  },
  {
   "cell_type": "code",
   "execution_count": 24,
   "metadata": {},
   "outputs": [
    {
     "name": "stdout",
     "output_type": "stream",
     "text": [
      "Positive Sentiments:  34352\n",
      "Negative Sentiments:  18720\n"
     ]
    }
   ],
   "source": [
    "print(\"Positive Sentiments: \", len(scores[scores > 0]))\n",
    "print(\"Negative Sentiments: \", len(scores[scores <= 0]))"
   ]
  },
  {
   "cell_type": "code",
   "execution_count": 25,
   "metadata": {},
   "outputs": [],
   "source": [
    "products['scores_pred'] = scores_pred"
   ]
  },
  {
   "cell_type": "code",
   "execution_count": 26,
   "metadata": {
    "scrolled": true
   },
   "outputs": [
    {
     "name": "stdout",
     "output_type": "stream",
     "text": [
      "Correct = 24234 | Incorrect = 28838 | Total = 53072 \n"
     ]
    }
   ],
   "source": [
    "correct = len(products[products['sentiment'] == products['scores_pred']][['sentiment','scores_pred']])\n",
    "total = len(products['sentiment'])\n",
    "print(\"Correct = {} | Incorrect = {} | Total = {} \".format(correct,total-correct, total))"
   ]
  },
  {
   "cell_type": "code",
   "execution_count": 27,
   "metadata": {},
   "outputs": [
    {
     "name": "stdout",
     "output_type": "stream",
     "text": [
      "Accuracy:  0.4566249623153452\n"
     ]
    }
   ],
   "source": [
    "accuracy = correct/total\n",
    "print(\"Accuracy: \", accuracy)"
   ]
  },
  {
   "cell_type": "code",
   "execution_count": null,
   "metadata": {},
   "outputs": [],
   "source": []
  }
 ],
 "metadata": {
  "kernelspec": {
   "display_name": "Python 3",
   "language": "python",
   "name": "python3"
  },
  "language_info": {
   "codemirror_mode": {
    "name": "ipython",
    "version": 3
   },
   "file_extension": ".py",
   "mimetype": "text/x-python",
   "name": "python",
   "nbconvert_exporter": "python",
   "pygments_lexer": "ipython3",
   "version": "3.5.2"
  }
 },
 "nbformat": 4,
 "nbformat_minor": 2
}
